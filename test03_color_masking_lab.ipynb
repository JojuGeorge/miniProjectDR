{
 "cells": [
  {
   "cell_type": "code",
   "execution_count": 1,
   "metadata": {},
   "outputs": [],
   "source": [
    "import cv2 as cv2   #importing opevcv\n",
    "import numpy as np\n",
    "\n",
    "\n",
    "symp_im = cv2.imread('symptoms/11085_left.jpeg');    #reading an image\n",
    "lab_im = cv2.cvtColor(symp_im, cv2.COLOR_BGR2LAB);  #converting the orginal image to GRAY SCALE\n",
    "\n",
    "\n",
    "\n",
    "\n",
    "#RESIZE IMAGE\n",
    "symp_im_rs = cv2.resize(symp_im, (430, 320));     #orginal image resizing\n",
    "lab_im_rs = cv2.resize(lab_im, (430, 320));    #grayscale image resizing\n",
    "\n",
    "#SHOWING IMAGE\n",
    "cv2.imshow('symptoms image',symp_im_rs);    #orginal image\n",
    "cv2.imshow('lab - symptoms image',lab_im_rs);    #gryascale image\n",
    "\n",
    "\n",
    "#BINARISING & THRESHOLD SLIDER\n",
    "#threshold slider code\n",
    "#nothing() is called each time threshold value is updated\n",
    "def nothing(x):\n",
    " #   ret,thresh_symp_im = cv2.threshold(grayScale_symp_im, 151, 255, cv2.THRESH_BINARY);   #binarising based on threshold slider\n",
    "    mask = cv2.inRange(lab_im,(r,g,b), (255,255,255)) \n",
    "    bin_symp_im_rs = cv2.resize(mask, (430, 320));    #Binary image resizing\n",
    "    cv2.imshow('color mask', bin_symp_im_rs);    #show binary image\n",
    "\n",
    "    \n",
    "cv2.namedWindow('color mask')   #creates window\n",
    "\"\"\"creates a trackbar(slider name, window to be displayed, threshold min, threshold max, \n",
    "   callback function which is executed everytime trackbar value changes)\"\"\"\n",
    "cv2.createTrackbar(\"red :\", \"color mask\", 0, 100, nothing);\n",
    "cv2.createTrackbar(\"green:\", \"color mask\", 0, 150, nothing);\n",
    "cv2.createTrackbar(\"blue :\", \"color mask\", 0, 150, nothing);\n",
    "\n",
    "    \n",
    "#while loop to update the threshold value 'thresh'\n",
    "while(1):\n",
    "    k = cv2.waitKey(1) & 0xFF;\n",
    "    if k == 27:\n",
    "        break;\n",
    "    r = cv2.getTrackbarPos('red :', 'color mask');\n",
    "    g = cv2.getTrackbarPos('green :', 'color mask');\n",
    "    b = cv2.getTrackbarPos('blue :', 'color mask');#gets current trackbar value\n",
    "    \n",
    "#END BINARISING & THRESHOLD SLIDER CODE :)\n"
   ]
  },
  {
   "cell_type": "code",
   "execution_count": 1,
   "metadata": {},
   "outputs": [],
   "source": [
    "\n"
   ]
  }
 ],
 "metadata": {
  "kernelspec": {
   "display_name": "Python 2",
   "language": "python",
   "name": "python2"
  },
  "language_info": {
   "codemirror_mode": {
    "name": "ipython",
    "version": 2
   },
   "file_extension": ".py",
   "mimetype": "text/x-python",
   "name": "python",
   "nbconvert_exporter": "python",
   "pygments_lexer": "ipython2",
   "version": "2.7.12"
  }
 },
 "nbformat": 4,
 "nbformat_minor": 2
}
