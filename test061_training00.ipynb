{
 "cells": [
  {
   "cell_type": "code",
   "execution_count": 5,
   "metadata": {},
   "outputs": [],
   "source": [
    "#TEST 01\n",
    "#trying to write to csv file\n",
    "#training the above code\n",
    "\n",
    "import numpy as np\n",
    "import pandas as pd\n",
    "import matplotlib.pyplot as plt\n",
    "import csv\n",
    "\n",
    "\n",
    "data=pd.read_csv(\"dr_features.csv\")\n",
    "data_new=pd.read_csv(\"dr_features.csv\")\n",
    "\n",
    "predictions=data_new['count']\n",
    "#data_new\n",
    "\n",
    "threshold = 30\n",
    "data_new['pred_value'] = predictions.apply(lambda x: 1 if x > threshold else 0)\n",
    "\n",
    "\n",
    "features_raw = data_new[[ \"count\", \"area\"]]\n",
    "predict_class = data_new['pred_value']\n",
    "\n",
    "\n",
    "#writing to csv file\n",
    "count=0\n",
    "with open('dr_features.csv','r') as csvinput:\n",
    "    with open('dr_features_output.csv', 'w') as csvoutput:\n",
    "        writer = csv.writer(csvoutput, lineterminator='\\n')\n",
    "        reader = csv.reader(csvinput)\n",
    "\n",
    "        all = []\n",
    "        row = next(reader)\n",
    "        row.append('pred_values')\n",
    "        all.append(row)\n",
    "\n",
    "        for row in reader:\n",
    "            row.append(predict_class[count])\n",
    "            count = count + 1\n",
    "                           \n",
    "            all.append(row)\n",
    "\n",
    "        writer.writerows(all)\n",
    "\n",
    "\n",
    "\n",
    "        \n",
    "        "
   ]
  }
 ],
 "metadata": {
  "kernelspec": {
   "display_name": "Python 2",
   "language": "python",
   "name": "python2"
  },
  "language_info": {
   "codemirror_mode": {
    "name": "ipython",
    "version": 2
   },
   "file_extension": ".py",
   "mimetype": "text/x-python",
   "name": "python",
   "nbconvert_exporter": "python",
   "pygments_lexer": "ipython2",
   "version": "2.7.12"
  }
 },
 "nbformat": 4,
 "nbformat_minor": 2
}
