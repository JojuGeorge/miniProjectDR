{
 "cells": [
  {
   "cell_type": "code",
   "execution_count": null,
   "metadata": {},
   "outputs": [
    {
     "name": "stdout",
     "output_type": "stream",
     "text": [
      "130\n",
      "1099.0\n",
      "[0.0, 0.0, 0.0, 0.0, 0.0, 0.0, 1.0, 28.5, 0.0, 9.5, 0.0, 1.0, 0.0, 1.0, 0.0, 0.0, 0.0, 0.0, 0.0, 0.0, 0.0, 1.5, 1.0, 2.5, 0.0, 0.0, 0.0, 0.0, 0.0, 0.0, 0.5, 0.0, 2.0, 0.0, 5.0, 0.0, 0.0, 0.0, 1.0, 0.0, 0.0, 1.0, 91.0, 0.0, 0.5, 0.0, 4.0, 1.5, 17.0, 0.0, 0.0, 7.0, 5.5, 0.0, 0.0, 0.0, 3.0, 0.0, 0.0, 0.0, 0.0, 0.0, 0.0, 0.0, 3.0, 0.0, 0.0, 0.0, 0.0, 0.0, 0.0, 25.5, 0.0, 0.5, 42.5, 24.0, 0.0, 0.0, 0.0, 0.0, 4.0, 4.0, 0.0, 0.0, 1.5, 4.5, 0.0, 0.0, 0.0, 0.0, 0.0, 6.0, 0.0, 0.0, 0.0, 0.0, 0.0, 0.0, 0.0, 1.5, 3.0, 0.0, 0.0, 5.5, 0.5, 0.0, 0.0, 1099.0, 0.0, 0.0, 0.0, 2.5, 0.0, 0.5, 0.0, 0.0, 0.0, 0.0, 0.0, 0.0, 0.0, 12.0, 109.0, 2.0, 0.0, 0.0, 0.0, 0.0, 0.0, 5.5]\n"
     ]
    }
   ],
   "source": [
    "import cv2 as cv2   #importing opevcv\n",
    "import numpy as np\n",
    "\n",
    "\n",
    "img = cv2.imread('symptoms/11085_left.jpeg')    #reading an image\n",
    "#img = cv2.imread('nosymptoms/161_left.jpeg')    #reading an image\n",
    "\n",
    "img_rs= cv2.resize(img, (430, 320))     #orginal image resizing\n",
    "cv2.imshow('orginal', img_rs)\n",
    "\n",
    "#ROI\n",
    "# Select ROI\n",
    "r = cv2.selectROI(img_rs)\n",
    "# Crop image\n",
    "imCrop = img_rs[int(r[1]):int(r[1]+r[3]), int(r[0]):int(r[0]+r[2])]\n",
    "# Display cropped image\n",
    "cv2.imshow(\"Image\", imCrop)\n",
    "\n",
    "hsv_im = cv2.cvtColor(imCrop, cv2.COLOR_BGR2HSV)  #converting the  image to HSV\n",
    "\n",
    "clr_rng_img = cv2.inRange(hsv_im,(19,0,111), (255,255,255)) \n",
    "cv2.imshow('color range orginal', clr_rng_img);    \n",
    "\n",
    "#contour drawing test code\n",
    "image, contours, hierarchy = cv2.findContours(clr_rng_img, cv2.RETR_EXTERNAL, cv2.CHAIN_APPROX_SIMPLE)\n",
    "#img = cv2.drawContours(image, contours, -1, (0,0, 255), 1)\n",
    "\n",
    "numOfContours = len(contours)   #number of contours\n",
    "\n",
    "area = []\n",
    "count = 0\n",
    "for count in range(numOfContours) :\n",
    "    cv2.drawContours(imCrop, contours, -1, (0,0, 255), 1)  #draw contours\n",
    "    cnt = contours[count]\n",
    "    area.append(cv2.contourArea(cnt))\n",
    "    #print(area)\n",
    "    \n",
    "    \n",
    "    count+=1\n",
    "    #print(contours)\n",
    "\n",
    "print(numOfContours)    \n",
    "print(max(area))   #gives the largest area\n",
    "print(area)\n",
    "\n",
    "#for contour in contours:\n",
    " #   original = cv2.boundingRect(contour)\n",
    "    #cv2.rectangle(imCrop, (original[0], original[1]), (original[0]+original[2], original[1] + original[3]), (0,0,255), 1)\n",
    "#    print(cv2.contourArea(original))\n",
    "\n",
    "    #rect_area_list.append(original[0], original[1], original[0]+original[2], original[1]+original[3])\n",
    "\n",
    "    \n",
    "#print(rect_area_list)       \n",
    "cv2.imshow(\"Bounding box\",imCrop)\n",
    "\n",
    "#keyboard binding function\n",
    "k = cv2.waitKey(0);   \n",
    "if k == 27:           #wait for ESC key to exit\n",
    "    cv2.destroyAllWindows();     #destroys all windows created"
   ]
  }
 ],
 "metadata": {
  "kernelspec": {
   "display_name": "Python 2",
   "language": "python",
   "name": "python2"
  },
  "language_info": {
   "codemirror_mode": {
    "name": "ipython",
    "version": 2
   },
   "file_extension": ".py",
   "mimetype": "text/x-python",
   "name": "python",
   "nbconvert_exporter": "python",
   "pygments_lexer": "ipython2",
   "version": "2.7.12"
  }
 },
 "nbformat": 4,
 "nbformat_minor": 2
}
