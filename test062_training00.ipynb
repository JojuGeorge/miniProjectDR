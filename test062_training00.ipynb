{
 "cells": [
  {
   "cell_type": "code",
   "execution_count": 4,
   "metadata": {},
   "outputs": [
    {
     "name": "stderr",
     "output_type": "stream",
     "text": [
      "/home/shaji/opencv/local/lib/python2.7/site-packages/sklearn/model_selection/_split.py:2069: FutureWarning: From version 0.21, test_size will always complement train_size unless both are specified.\n",
      "  FutureWarning)\n"
     ]
    },
    {
     "name": "stdout",
     "output_type": "stream",
     "text": [
      "Training set has 156 samples.\n",
      "Testing set has 40 samples.\n",
      "[1 1 1 1 0 0 1 1 0 0 1 1 1 1 1 1 0 0 0 1 1 0 1 0 1 1 1 0 0 1 1 1 1 0 0 1 0\n",
      " 0 1 0]\n",
      "[[15  4]\n",
      " [ 1 20]]\n",
      "              precision    recall  f1-score   support\n",
      "\n",
      "           0       0.94      0.79      0.86        19\n",
      "           1       0.83      0.95      0.89        21\n",
      "\n",
      "   micro avg       0.88      0.88      0.88        40\n",
      "   macro avg       0.89      0.87      0.87        40\n",
      "weighted avg       0.88      0.88      0.87        40\n",
      "\n",
      "('Accuracy is', 0.875)\n"
     ]
    },
    {
     "data": {
      "image/png": "[encoded data removed]",
      "text/plain": [
       "<Figure size 432x288 with 2 Axes>"
      ]
     },
     "metadata": {
      "needs_background": "light"
     },
     "output_type": "display_data"
    }
   ],
   "source": [
    "#training the model with above generated csv file\n",
    "\n",
    "import csv\n",
    "import numpy as np\n",
    "import pandas as pd\n",
    "import matplotlib.pyplot as plt\n",
    "#import test061_training00\n",
    "\n",
    "data=pd.read_csv(\"dr_features_output_main.csv\")\n",
    "data_new=pd.read_csv(\"dr_features_output_main.csv\")\n",
    "\n",
    "predictions=data_new['count']\n",
    "#data_new\n",
    "\n",
    "threshold = 30\n",
    "#data_new['pred_value'] = predictions.apply(lambda x: 1 if x > threshold else 0)\n",
    "#data_new['pred_value00'] = data_new['pred_value']\n",
    "\n",
    "\n",
    "features_raw = data_new[[ \"count\", \"area\"]]\n",
    "predict_class = data_new['pred_values']\n",
    "\n",
    "\n",
    "from sklearn.model_selection import train_test_split\n",
    "\n",
    "\n",
    "np.random.seed(100)\n",
    "\n",
    "X_train, X_test, y_train, y_test = train_test_split(features_raw, predict_class, train_size=0.80, random_state=1)\n",
    "#train_size is set to .10 not .80 for less accuracy measure\n",
    "\n",
    "# Show the results of the split\n",
    "print \"Training set has {} samples.\".format(X_train.shape[0])\n",
    "print \"Testing set has {} samples.\".format(X_test.shape[0])\n",
    "\n",
    "\n",
    "import sklearn\n",
    "from sklearn import svm\n",
    "\n",
    "C = 5\n",
    "# Create SVM classification object \n",
    "#svc = svm.SVC(kernel='linear',C=C,gamma=2)\n",
    "svc = svm.SVC(kernel='linear',C=C,gamma=2)\n",
    "\n",
    "svc.fit(X_train, y_train)\n",
    "\n",
    "\n",
    "from sklearn.metrics import fbeta_score\n",
    "predictions_test = svc.predict(X_test)\n",
    "print(predictions_test)\n",
    "\n",
    "\n",
    "from sklearn import metrics\n",
    "from sklearn.metrics import classification_report, confusion_matrix\n",
    "\n",
    "print(confusion_matrix(y_test, predictions_test))\n",
    "print(classification_report(y_test, predictions_test))\n",
    "\n",
    "\n",
    "plt.subplot(221), plt.hist(predict_class, bins=10)\n",
    "plt.xlim(0,1)\n",
    "plt.title('Histogram of disease prediction')\n",
    "plt.xlabel('prediction class')\n",
    "plt.ylabel('Frequency')\n",
    "\n",
    "plt.subplot(222), plt.hist(predictions_test, bins=10)\n",
    "plt.xlim(0,1)\n",
    "plt.xlabel('prediction test')\n",
    "plt.ylabel('Frequency')\n",
    "\n",
    "print('Accuracy is',metrics.accuracy_score(y_test,predictions_test))\n",
    "\n"
   ]
  }
 ],
 "metadata": {
  "kernelspec": {
   "display_name": "Python 2",
   "language": "python",
   "name": "python2"
  },
  "language_info": {
   "codemirror_mode": {
    "name": "ipython",
    "version": 2
   },
   "file_extension": ".py",
   "mimetype": "text/x-python",
   "name": "python",
   "nbconvert_exporter": "python",
   "pygments_lexer": "ipython2",
   "version": "2.7.12"
  }
 },
 "nbformat": 4,
 "nbformat_minor": 2
}
