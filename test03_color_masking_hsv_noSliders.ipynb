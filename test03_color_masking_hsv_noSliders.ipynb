{
 "cells": [
  {
   "cell_type": "code",
   "execution_count": 1,
   "metadata": {},
   "outputs": [],
   "source": [
    "import cv2 as cv2   #importing opevcv\n",
    "import numpy as np\n",
    "\n",
    "\n",
    "img = cv2.imread('symptoms/11085_left.jpeg')    #reading an image\n",
    "img_rs= cv2.resize(img, (430, 320))     #orginal image resizing\n",
    "cv2.imshow('orginal', img_rs)\n",
    "\n",
    "#ROI\n",
    "# Select ROI\n",
    "r = cv2.selectROI(img_rs)\n",
    "# Crop image\n",
    "imCrop = img_rs[int(r[1]):int(r[1]+r[3]), int(r[0]):int(r[0]+r[2])]\n",
    "# Display cropped image\n",
    "cv2.imshow(\"Image\", imCrop)\n",
    "\n",
    "hsv_im = cv2.cvtColor(imCrop, cv2.COLOR_BGR2HSV)  #converting the  image to HSV\n",
    "\n",
    "clr_rng_img = cv2.inRange(hsv_im,(19,0,111), (255,255,255)) \n",
    "cv2.imshow('color range orginal', clr_rng_img);    \n",
    "\n",
    "#contour drawing test code\n",
    "image, contours, hierarchy = cv2.findContours(clr_rng_img, cv2.RETR_EXTERNAL, cv2.CHAIN_APPROX_SIMPLE)\n",
    "\n",
    "img = cv2.drawContours(image, contours, -1, (0,0, 255), 1)\n",
    "for contour in contours:\n",
    "    #print contour\n",
    "    original = cv2.boundingRect(contour)\n",
    "    cv2.rectangle(imCrop, (original[0], original[1]), (original[0]+original[2], original[1] + original[3]), (0,0,255), 3)\n",
    "\n",
    "cv2.imshow(\"Bounding box\",imCrop)\n",
    "\n",
    "#keyboard binding function\n",
    "k = cv2.waitKey(0);   \n",
    "if k == 27:           #wait for ESC key to exit\n",
    "    cv2.destroyAllWindows();     #destroys all windows created"
   ]
  },
  {
   "cell_type": "code",
   "execution_count": null,
   "metadata": {},
   "outputs": [],
   "source": []
  }
 ],
 "metadata": {
  "kernelspec": {
   "display_name": "Python 2",
   "language": "python",
   "name": "python2"
  },
  "language_info": {
   "codemirror_mode": {
    "name": "ipython",
    "version": 2
   },
   "file_extension": ".py",
   "mimetype": "text/x-python",
   "name": "python",
   "nbconvert_exporter": "python",
   "pygments_lexer": "ipython2",
   "version": "2.7.12"
  }
 },
 "nbformat": 4,
 "nbformat_minor": 2
}
