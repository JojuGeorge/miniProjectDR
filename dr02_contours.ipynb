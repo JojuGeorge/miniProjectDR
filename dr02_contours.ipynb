{
 "cells": [
  {
   "cell_type": "code",
   "execution_count": null,
   "metadata": {},
   "outputs": [],
   "source": [
    "import cv2 as cv2   #importing opevcv\n",
    "import numpy as np\n",
    "\n",
    "\n",
    "symp_im = cv2.imread('symptoms/11085_right.jpeg');    #reading an image\n",
    "I = symp_im.copy()\n",
    "grayScale_symp_im = cv2.cvtColor(symp_im, cv2.COLOR_BGR2GRAY);  #converting the orginal image to GRAY SCALE\n",
    "\n",
    "\n",
    "#RESIZE IMAGE\n",
    "#symp_im_rs = cv2.resize(symp_im, (1430, 720));     #orginal image resizing\n",
    "#gray_symp_im_rs = cv2.resize(grayScale_symp_im, (430, 320));    #grayscale image resizing\n",
    "\n",
    "#SHOWING IMAGE\n",
    "#cv2.imshow('symptoms image',symp_im_rs);    #orginal image\n",
    "#cv2.imshow('Gray Scale - symptoms image',gray_symp_im_rs);    #gryascale image\n",
    "\n",
    "\n",
    "#BINARISING & THRESHOLD SLIDER\n",
    "#threshold slider code\n",
    "#nothing() is called each time threshold value is updated\n",
    "\n",
    "ret,thresh_symp_im = cv2.threshold(grayScale_symp_im,150, 255, cv2.THRESH_TRUNC);   #binarising based on threshold slider\n",
    "    \n",
    "#contour drawing test code\n",
    "image, contours, hierarchy = cv2.findContours(thresh_symp_im, cv2.RETR_EXTERNAL, cv2.CHAIN_APPROX_SIMPLE)\n",
    "\n",
    "img = cv2.drawContours(image, contours, -1, (0,0, 255), 3)\n",
    "\n",
    "for contour in contours:\n",
    "    print contour\n",
    "\n",
    "    original = cv2.boundingRect(contour)\n",
    "\n",
    "        \n",
    "    cv2.rectangle(symp_im, (original[0], original[1]), (original[0]+original[2], original[1] + original[3]), (0,0,255), 3)\n",
    "#img = cv2.putText(image, str(\"s\"), cv2.boundingRect(contour)[:2], cv2.FONT_HERSHEY_COMPLEX, 1, [125])\n",
    "#test code ends here\n",
    "bin_symp_im_rs = cv2.resize(symp_im, (900, 720));    #Binary image resizing\n",
    "cv2.imshow('Binarised.png', bin_symp_im_rs);    #show binary image\n",
    "\n",
    "    \n",
    "\n",
    "\n",
    "#keyboard binding function\n",
    "k = cv2.waitKey(0);   \n",
    "if k == 27:           #wait for ESC key to exit\n",
    "    cv2.destroyAllWindows();     #destroys all windows created"
   ]
  },
  {
   "cell_type": "code",
   "execution_count": null,
   "metadata": {},
   "outputs": [],
   "source": []
  }
 ],
 "metadata": {
  "kernelspec": {
   "display_name": "Python 2",
   "language": "python",
   "name": "python2"
  },
  "language_info": {
   "codemirror_mode": {
    "name": "ipython",
    "version": 2
   },
   "file_extension": ".py",
   "mimetype": "text/x-python",
   "name": "python",
   "nbconvert_exporter": "python",
   "pygments_lexer": "ipython2",
   "version": "2.7.12"
  }
 },
 "nbformat": 4,
 "nbformat_minor": 2
}
