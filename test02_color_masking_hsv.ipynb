{
 "cells": [
  {
   "cell_type": "code",
   "execution_count": 5,
   "metadata": {},
   "outputs": [],
   "source": [
    "import cv2 as cv2   #importing opevcv\n",
    "import numpy as np\n",
    "\n",
    "\n",
    "img = cv2.imread('symptoms/11085_left.jpeg')    #reading an image\n",
    "#img = cv2.imread('nosymptoms/161_left.jpeg')    #reading an image\n",
    "\n",
    "img= cv2.resize(img, (430, 320))     #orginal image resizing\n",
    "cv2.imshow('orginal', img)\n",
    "\n",
    "#ROI\n",
    "# Select ROI\n",
    "r = cv2.selectROI(img)\n",
    "# Crop image\n",
    "imCrop = img[int(r[1]):int(r[1]+r[3]), int(r[0]):int(r[0]+r[2])]\n",
    "# Display cropped image\n",
    "cv2.imshow(\"Image\", imCrop)\n",
    "\n",
    "hsv_im = cv2.cvtColor(imCrop, cv2.COLOR_BGR2HSV)  #converting the  image to HSV\n",
    "\n",
    "def nothing0(x):\n",
    " #   ret,thresh_symp_im = cv2.threshold(grayScale_symp_im, 151, 255, cv2.THRESH_BINARY);   #binarising based on threshold slider\n",
    "    clr_rng_img = cv2.inRange(hsv_im,(b,g,r), (255,255,255)) \n",
    "    #bin_img = cv2.resize(clr_rng_img, (430, 320));  \n",
    "    cv2.imshow('color range orginal', clr_rng_img);    \n",
    "\n",
    "    \n",
    "cv2.namedWindow('color range orginal')   #creates window\n",
    "\"\"\"creates a trackbar(slider name, window to be displayed, threshold min, threshold max, \n",
    "   callback function which is executed everytime trackbar value changes)\"\"\"\n",
    "cv2.createTrackbar(\"red :\", \"color range orginal\", 0, 255, nothing0);\n",
    "cv2.createTrackbar(\"green:\", \"color range orginal\", 0, 255, nothing0);\n",
    "cv2.createTrackbar(\"blue :\", \"color range orginal\", 0, 255, nothing0);\n",
    "\n",
    "    \n",
    "#while loop to update the threshold value 'thresh'\n",
    "while(1):\n",
    "    k = cv2.waitKey(1) & 0xFF;\n",
    "    if k == 27:\n",
    "        break;\n",
    "    r = cv2.getTrackbarPos('red :', 'color range orginal');\n",
    "    g = cv2.getTrackbarPos('green :', 'color range orginal');\n",
    "    b = cv2.getTrackbarPos('blue :', 'color range orginal');#gets current trackbar value\n",
    "    \n",
    "#END BINARISING & THRESHOLD SLIDER CODE :)\n",
    "\n",
    "\n",
    "\n",
    "#keyboard binding function\n",
    "k = cv2.waitKey(0);   \n",
    "if k == 27:           #wait for ESC key to exit\n",
    "    cv2.destroyAllWindows();     #destroys all windows created"
   ]
  }
 ],
 "metadata": {
  "kernelspec": {
   "display_name": "Python 2",
   "language": "python",
   "name": "python2"
  },
  "language_info": {
   "codemirror_mode": {
    "name": "ipython",
    "version": 2
   },
   "file_extension": ".py",
   "mimetype": "text/x-python",
   "name": "python",
   "nbconvert_exporter": "python",
   "pygments_lexer": "ipython2",
   "version": "2.7.12"
  }
 },
 "nbformat": 4,
 "nbformat_minor": 2
}
