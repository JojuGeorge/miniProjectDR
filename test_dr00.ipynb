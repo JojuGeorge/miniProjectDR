{
 "cells": [
  {
   "cell_type": "code",
   "execution_count": null,
   "metadata": {},
   "outputs": [],
   "source": [
    "import cv2 as cv2   #importing opevcv\n",
    "import numpy as np\n",
    "\n",
    "\n",
    "symp_im = cv2.imread('symptoms/11085_left.jpeg');    #reading an image\n",
    "grayScale_symp_im = cv2.cvtColor(symp_im, cv2.COLOR_BGR2GRAY);  #converting the orginal image to GRAY SCALE\n",
    "\n",
    "\n",
    "#RESIZE IMAGE\n",
    "symp_im_rs = cv2.resize(symp_im, (430, 320));     #orginal image resizing\n",
    "gray_symp_im_rs = cv2.resize(grayScale_symp_im, (430, 320));    #grayscale image resizing\n",
    "\n",
    "#SHOWING IMAGE\n",
    "cv2.imshow('symptoms image',symp_im_rs);    #orginal image\n",
    "cv2.imshow('Gray Scale - symptoms image',gray_symp_im_rs);    #gryascale image\n",
    "\n",
    "\n",
    "\n",
    "\n",
    "ret,thresh_symp_im = cv2.threshold(grayScale_symp_im, thresh, 255, cv2.THRESH_BINARY);   #binarising based on threshold slider\n",
    "bin_symp_im_rs = cv2.resize(thresh_symp_im, (430, 320));    #Binary image resizing\n",
    "cv2.imshow('Binarised', bin_symp_im_rs);    #show binary image\n",
    "#keyboard binding function\n",
    "k = cv2.waitKey(0);   \n",
    "if k == 27:           #wait for ESC key to exit\n",
    "    cv2.destroyAllWindows();     #destroys all windows created\n"
   ]
  }
 ],
 "metadata": {
  "kernelspec": {
   "display_name": "Python 2",
   "language": "python",
   "name": "python2"
  },
  "language_info": {
   "codemirror_mode": {
    "name": "ipython",
    "version": 2
   },
   "file_extension": ".py",
   "mimetype": "text/x-python",
   "name": "python",
   "nbconvert_exporter": "python",
   "pygments_lexer": "ipython2",
   "version": "2.7.12"
  }
 },
 "nbformat": 4,
 "nbformat_minor": 2
}
